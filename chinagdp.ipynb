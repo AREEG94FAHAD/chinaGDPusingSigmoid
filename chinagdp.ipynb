{
 "cells": [
  {
   "cell_type": "markdown",
   "id": "08273a5c",
   "metadata": {},
   "source": [
    "# China GDP based on polynomial regression"
   ]
  },
  {
   "cell_type": "markdown",
   "id": "35629239",
   "metadata": {},
   "source": [
    "Polynomial regression machine system to estimate the GDP of China. The year is used as the independent variable, and the GDP in US dollars is used as the dependent variable. The proposed system is compared with the sigmoid system.\n"
   ]
  },
  {
   "cell_type": "markdown",
   "id": "3c04c20a",
   "metadata": {},
   "source": [
    "The dataset for this experiment can be downloaded using this link [China GDP](https://www.geekering.com/wp-content/uploads/2021/04/china_gdp_1960.csv)"
   ]
  },
  {
   "cell_type": "markdown",
   "id": "04b3e812",
   "metadata": {},
   "source": [
    "To work with this project, multiple libraries and frameworks need to be installed. The following is a list of them.\n",
    "- [Pandas](https://pandas.pydata.org/)\n",
    "- [NumPy](https://numpy.org/)\n",
    "- [Matplotlib](https://matplotlib.org/)\n",
    "- [Sciki-learn](https://scikit-learn.org/stable/)"
   ]
  },
  {
   "cell_type": "markdown",
   "id": "d37e2524",
   "metadata": {},
   "source": [
    "Import the required packets."
   ]
  },
  {
   "cell_type": "code",
   "execution_count": 1,
   "id": "3c23adb6",
   "metadata": {},
   "outputs": [],
   "source": [
    "import numpy as np\n",
    "import pandas as pd\n",
    "import matplotlib.pyplot as plt"
   ]
  },
  {
   "cell_type": "markdown",
   "id": "3ed7dd34",
   "metadata": {},
   "source": [
    "Save the csv file in the dataset variable after reading it. "
   ]
  },
  {
   "cell_type": "code",
   "execution_count": 2,
   "id": "3ec51a3d",
   "metadata": {},
   "outputs": [
    {
     "data": {
      "text/html": [
       "<div>\n",
       "<style scoped>\n",
       "    .dataframe tbody tr th:only-of-type {\n",
       "        vertical-align: middle;\n",
       "    }\n",
       "\n",
       "    .dataframe tbody tr th {\n",
       "        vertical-align: top;\n",
       "    }\n",
       "\n",
       "    .dataframe thead th {\n",
       "        text-align: right;\n",
       "    }\n",
       "</style>\n",
       "<table border=\"1\" class=\"dataframe\">\n",
       "  <thead>\n",
       "    <tr style=\"text-align: right;\">\n",
       "      <th></th>\n",
       "      <th>Year</th>\n",
       "      <th>Value</th>\n",
       "    </tr>\n",
       "  </thead>\n",
       "  <tbody>\n",
       "    <tr>\n",
       "      <th>0</th>\n",
       "      <td>1960</td>\n",
       "      <td>5.918412e+10</td>\n",
       "    </tr>\n",
       "    <tr>\n",
       "      <th>1</th>\n",
       "      <td>1961</td>\n",
       "      <td>4.955705e+10</td>\n",
       "    </tr>\n",
       "    <tr>\n",
       "      <th>2</th>\n",
       "      <td>1962</td>\n",
       "      <td>4.668518e+10</td>\n",
       "    </tr>\n",
       "  </tbody>\n",
       "</table>\n",
       "</div>"
      ],
      "text/plain": [
       "   Year         Value\n",
       "0  1960  5.918412e+10\n",
       "1  1961  4.955705e+10\n",
       "2  1962  4.668518e+10"
      ]
     },
     "execution_count": 2,
     "metadata": {},
     "output_type": "execute_result"
    }
   ],
   "source": [
    "dataset = pd.read_csv('dataset.csv')\n",
    "dataset.head(3)"
   ]
  },
  {
   "cell_type": "markdown",
   "id": "bc435ed6",
   "metadata": {},
   "source": [
    "Plot the relationship between the year and the GDP value to see if there is a linear or non-linear relationship."
   ]
  },
  {
   "cell_type": "code",
   "execution_count": 3,
   "id": "4bef6b8a",
   "metadata": {},
   "outputs": [
    {
     "data": {
      "text/plain": [
       "Text(0, 0.5, 'GDP value')"
      ]
     },
     "execution_count": 3,
     "metadata": {},
     "output_type": "execute_result"
    },
    {
     "data": {
      "image/png": "[encoded data removed]",
      "text/plain": [
       "<Figure size 640x480 with 1 Axes>"
      ]
     },
     "metadata": {},
     "output_type": "display_data"
    }
   ],
   "source": [
    "x, y = (dataset[\"Year\"].values, dataset[\"Value\"].values)\n",
    "plt.plot(x, y, 'gh')\n",
    "plt.xlabel('Year')\n",
    "plt.ylabel('GDP value')"
   ]
  },
  {
   "cell_type": "markdown",
   "id": "fe51e736",
   "metadata": {},
   "source": [
    "Because there are no linear relationships between the independent (year) and dependent (GDP value), a non-linear regression system is required. Two methods will be used to solve this problem. 1-pomomyial regression system, and 2.sigmoid"
   ]
  },
  {
   "cell_type": "markdown",
   "id": "b68c9b24",
   "metadata": {},
   "source": [
    "## 1- Polynomial Regression"
   ]
  },
  {
   "cell_type": "markdown",
   "id": "234dac14",
   "metadata": {},
   "source": [
    "Polynomial Regression is a regression approach that uses an nth degree polynomial to represent the relationship between a dependent (y) and independent variable (x). Two degrees of polynomail—the first at degree 2 and the second at degree 3—were then compared between the values to evaluate the performance. "
   ]
  },
  {
   "cell_type": "markdown",
   "id": "bda860a1",
   "metadata": {},
   "source": [
    "Polynomail Equation\n",
    "$$\n",
    "y = b_{0} + c_{1}x + c_{2}x^{2}  +...  +c_{n}x^{n}\n",
    "$$\n",
    "\n",
    "Where n is the degree of the polynomial,b is the intercept, and c is a set of coefficients,"
   ]
  },
  {
   "cell_type": "markdown",
   "id": "3a0ebf11",
   "metadata": {},
   "source": [
    "1- After applied two polynomail dgree\n",
    "$$\n",
    "GDP_Value = b_{0} + c_{1}year_{1}+ c_{2}year^{2}\n",
    "$$"
   ]
  },
  {
   "cell_type": "markdown",
   "id": "0ed007d9",
   "metadata": {},
   "source": [
    "2- applied three polynomail dgree\n",
    "$$\n",
    "GDP_Value = b_{0} + c_{1}year_{1}+ c_{2}year^{2}+ c_{3}year^{3}\n",
    "$$"
   ]
  },
  {
   "cell_type": "markdown",
   "id": "3213953a",
   "metadata": {},
   "source": [
    "Import the polynomail class for sklearn library"
   ]
  },
  {
   "cell_type": "code",
   "execution_count": 4,
   "id": "7b1a19eb",
   "metadata": {},
   "outputs": [],
   "source": [
    "from sklearn.preprocessing import PolynomialFeatures\n",
    "from sklearn import linear_model"
   ]
  },
  {
   "cell_type": "markdown",
   "id": "242c68df",
   "metadata": {},
   "source": [
    "\n",
    "Choose 80% of the data for training and 20% for testing. \n"
   ]
  },
  {
   "cell_type": "code",
   "execution_count": 5,
   "id": "01568e1b",
   "metadata": {},
   "outputs": [],
   "source": [
    "msk = np.random.rand(len(dataset)) < 0.8\n",
    "train = dataset[msk]\n",
    "test = dataset[~msk]\n",
    "\n",
    "\n",
    "train_x = np.asanyarray(train[['Year']])\n",
    "train_y = np.asanyarray(train[['Value']])\n",
    "\n",
    "test_x = np.asanyarray(test[['Year']])\n",
    "test_y = np.asanyarray(test[['Value']])"
   ]
  },
  {
   "cell_type": "code",
   "execution_count": 6,
   "id": "246b660c",
   "metadata": {},
   "outputs": [
    {
     "data": {
      "text/plain": [
       "array([[1960],\n",
       "       [1961],\n",
       "       [1962],\n",
       "       [1963]], dtype=int64)"
      ]
     },
     "execution_count": 6,
     "metadata": {},
     "output_type": "execute_result"
    }
   ],
   "source": [
    "train_x[0:4]"
   ]
  },
  {
   "cell_type": "code",
   "execution_count": 7,
   "id": "964e9dc5",
   "metadata": {},
   "outputs": [],
   "source": [
    "poly = PolynomialFeatures(degree=2)\n",
    "train_x_poly = poly.fit_transform(train_x)"
   ]
  },
  {
   "cell_type": "markdown",
   "id": "3d5275f3",
   "metadata": {},
   "source": [
    "$$\\begin{bmatrix}x_{1}\\\\  x_{2}\\\\ ...\\\\x_{n}\\end{bmatrix}= \\begin{bmatrix}x_{1}& x_{1}^{2} &...  &x_{1}^{n} \\\\ x_{2}& x_{2}^{2} &...  &x_{1}^{n} \\\\ ...& ... &...  &... \\\\ x_{n}& x_{n}^{2} &...  &x_{n}^{n} \\\\ \\end{bmatrix}$$\n",
    "\n",
    "where x refers to independent variables\n",
    "Polynimail Regression is special case of Multiple linear regression"
   ]
  },
  {
   "cell_type": "code",
   "execution_count": 8,
   "id": "5b60decd",
   "metadata": {},
   "outputs": [
    {
     "data": {
      "text/plain": [
       "array([[1.000000e+00, 1.960000e+03, 3.841600e+06],\n",
       "       [1.000000e+00, 1.961000e+03, 3.845521e+06]])"
      ]
     },
     "execution_count": 8,
     "metadata": {},
     "output_type": "execute_result"
    }
   ],
   "source": [
    "train_x_poly[0:2]"
   ]
  },
  {
   "cell_type": "markdown",
   "id": "2fe01f91",
   "metadata": {},
   "source": [
    "After convert applied polynomial call the linear regression"
   ]
  },
  {
   "cell_type": "code",
   "execution_count": 9,
   "id": "8d6e5b5b",
   "metadata": {},
   "outputs": [],
   "source": [
    "lr = linear_model.LinearRegression()\n",
    "predict_y = lr.fit(train_x_poly, train_y)"
   ]
  },
  {
   "cell_type": "code",
   "execution_count": 10,
   "id": "87996826",
   "metadata": {},
   "outputs": [
    {
     "data": {
      "text/plain": [
       "array([[ 0.00000000e+00, -2.49958709e+13,  6.31903429e+09]])"
      ]
     },
     "execution_count": 10,
     "metadata": {},
     "output_type": "execute_result"
    }
   ],
   "source": [
    "# The coefficients\n",
    "lr.coef_"
   ]
  },
  {
   "cell_type": "code",
   "execution_count": 11,
   "id": "5ad1f101",
   "metadata": {},
   "outputs": [
    {
     "data": {
      "text/plain": [
       "array([2.47180156e+16])"
      ]
     },
     "execution_count": 11,
     "metadata": {},
     "output_type": "execute_result"
    }
   ],
   "source": [
    "# The Intercept\n",
    "lr.intercept_"
   ]
  },
  {
   "cell_type": "markdown",
   "id": "be0adcd5",
   "metadata": {},
   "source": [
    "Show how the predicted system fits with the data"
   ]
  },
  {
   "cell_type": "code",
   "execution_count": 12,
   "id": "09a9616d",
   "metadata": {},
   "outputs": [
    {
     "data": {
      "text/plain": [
       "[<matplotlib.lines.Line2D at 0x20b37f97fa0>]"
      ]
     },
     "execution_count": 12,
     "metadata": {},
     "output_type": "execute_result"
    },
    {
     "data": {
      "image/png": "[encoded data removed]",
      "text/plain": [
       "<Figure size 640x480 with 1 Axes>"
      ]
     },
     "metadata": {},
     "output_type": "display_data"
    }
   ],
   "source": [
    "plt.scatter(train.Year, train.Value,  color='blue')\n",
    "\n",
    "\n",
    "XX = np.arange(1960, 2014, 1)\n",
    "yy = lr.intercept_[0]+ lr.coef_[0][1]*XX+ lr.coef_[0][2]*np.power(XX, 2)\n",
    "plt.plot(XX, yy, '-r' )\n"
   ]
  },
  {
   "cell_type": "markdown",
   "id": "68b5f8d2",
   "metadata": {},
   "source": [
    "Calculate the accuracy "
   ]
  },
  {
   "cell_type": "code",
   "execution_count": 13,
   "id": "c76e7846",
   "metadata": {},
   "outputs": [
    {
     "data": {
      "text/plain": [
       "array([[1970],\n",
       "       [1978]], dtype=int64)"
      ]
     },
     "execution_count": 13,
     "metadata": {},
     "output_type": "execute_result"
    }
   ],
   "source": [
    "from sklearn.metrics import r2_score\n",
    "\n",
    "test_x_poly = poly.transform(test_x)\n",
    "\n",
    "test_x[0:2]\n"
   ]
  },
  {
   "cell_type": "markdown",
   "id": "33b22111",
   "metadata": {},
   "source": [
    "> ### Note:  [What and why behind fit_transform() and transform() in scikit-learn!](https://towardsdatascience.com/what-and-why-behind-fit-transform-vs-transform-in-scikit-learn-78f915cf96fe)"
   ]
  },
  {
   "cell_type": "code",
   "execution_count": 14,
   "id": "1952c570",
   "metadata": {},
   "outputs": [
    {
     "name": "stdout",
     "output_type": "stream",
     "text": [
      "Mean absolute error: 777592934349.64\n",
      "Residual sum of squares (MSE): 869072026750160910417920.00\n",
      "R2-score: 0.83\n"
     ]
    }
   ],
   "source": [
    "predict_y_ = lr.predict(test_x_poly)\n",
    "print(\"Mean absolute error: %.2f\" % np.mean(np.absolute(predict_y_ - test_y)))\n",
    "print(\"Residual sum of squares (MSE): %.2f\" % np.mean((predict_y_ - test_y) ** 2))\n",
    "print(\"R2-score: %.2f\" % r2_score(test_y,predict_y_ ) )"
   ]
  }
 ],
 "metadata": {
  "kernelspec": {
   "display_name": "Python 3 (ipykernel)",
   "language": "python",
   "name": "python3"
  },
  "language_info": {
   "codemirror_mode": {
    "name": "ipython",
    "version": 3
   },
   "file_extension": ".py",
   "mimetype": "text/x-python",
   "name": "python",
   "nbconvert_exporter": "python",
   "pygments_lexer": "ipython3",
   "version": "3.9.13"
  }
 },
 "nbformat": 4,
 "nbformat_minor": 5
}
